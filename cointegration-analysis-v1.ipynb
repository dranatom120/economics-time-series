{
 "cells": [
  {
   "cell_type": "markdown",
   "metadata": {},
   "source": [
    "# Import Libraries"
   ]
  },
  {
   "cell_type": "code",
   "execution_count": 1,
   "metadata": {},
   "outputs": [],
   "source": [
    "import matplotlib.pyplot as plt\n",
    "import numpy as np\n",
    "from numpy.random import seed\n",
    "seed(1)\n",
    "import pandas as pd\n",
    "import quandl\n",
    "import statsmodels.tsa.stattools as ts"
   ]
  },
  {
   "cell_type": "markdown",
   "metadata": {},
   "source": [
    "# Training Data"
   ]
  },
  {
   "cell_type": "markdown",
   "metadata": {},
   "source": [
    "## Treasury Rates"
   ]
  },
  {
   "cell_type": "code",
   "execution_count": 2,
   "metadata": {},
   "outputs": [
    {
     "data": {
      "text/html": [
       "<div>\n",
       "<style scoped>\n",
       "    .dataframe tbody tr th:only-of-type {\n",
       "        vertical-align: middle;\n",
       "    }\n",
       "\n",
       "    .dataframe tbody tr th {\n",
       "        vertical-align: top;\n",
       "    }\n",
       "\n",
       "    .dataframe thead th {\n",
       "        text-align: right;\n",
       "    }\n",
       "</style>\n",
       "<table border=\"1\" class=\"dataframe\">\n",
       "  <thead>\n",
       "    <tr style=\"text-align: right;\">\n",
       "      <th></th>\n",
       "      <th>Value</th>\n",
       "    </tr>\n",
       "    <tr>\n",
       "      <th>Date</th>\n",
       "      <th></th>\n",
       "    </tr>\n",
       "  </thead>\n",
       "  <tbody>\n",
       "    <tr>\n",
       "      <th>1981-01-01</th>\n",
       "      <td>12.57</td>\n",
       "    </tr>\n",
       "    <tr>\n",
       "      <th>1981-02-01</th>\n",
       "      <td>13.19</td>\n",
       "    </tr>\n",
       "    <tr>\n",
       "      <th>1981-03-01</th>\n",
       "      <td>13.12</td>\n",
       "    </tr>\n",
       "    <tr>\n",
       "      <th>1981-04-01</th>\n",
       "      <td>13.68</td>\n",
       "    </tr>\n",
       "    <tr>\n",
       "      <th>1981-05-01</th>\n",
       "      <td>14.10</td>\n",
       "    </tr>\n",
       "    <tr>\n",
       "      <th>...</th>\n",
       "      <td>...</td>\n",
       "    </tr>\n",
       "    <tr>\n",
       "      <th>2017-09-01</th>\n",
       "      <td>2.20</td>\n",
       "    </tr>\n",
       "    <tr>\n",
       "      <th>2017-10-01</th>\n",
       "      <td>2.36</td>\n",
       "    </tr>\n",
       "    <tr>\n",
       "      <th>2017-11-01</th>\n",
       "      <td>2.35</td>\n",
       "    </tr>\n",
       "    <tr>\n",
       "      <th>2017-12-01</th>\n",
       "      <td>2.40</td>\n",
       "    </tr>\n",
       "    <tr>\n",
       "      <th>2018-01-01</th>\n",
       "      <td>2.58</td>\n",
       "    </tr>\n",
       "  </tbody>\n",
       "</table>\n",
       "<p>445 rows × 1 columns</p>\n",
       "</div>"
      ],
      "text/plain": [
       "            Value\n",
       "Date             \n",
       "1981-01-01  12.57\n",
       "1981-02-01  13.19\n",
       "1981-03-01  13.12\n",
       "1981-04-01  13.68\n",
       "1981-05-01  14.10\n",
       "...           ...\n",
       "2017-09-01   2.20\n",
       "2017-10-01   2.36\n",
       "2017-11-01   2.35\n",
       "2017-12-01   2.40\n",
       "2018-01-01   2.58\n",
       "\n",
       "[445 rows x 1 columns]"
      ]
     },
     "execution_count": 2,
     "metadata": {},
     "output_type": "execute_result"
    }
   ],
   "source": [
    "# https://www.quandl.com/data/FRED/GS10-10-Year-Treasury-Constant-Maturity-Rate\n",
    "treasury = quandl.get(\"FRED/GS10\", start_date='1981-01-01', end_date='2018-01-01', api_key='enter_api_key')\n",
    "treasury"
   ]
  },
  {
   "cell_type": "code",
   "execution_count": 3,
   "metadata": {},
   "outputs": [],
   "source": [
    "treasuryvalues=treasury['Value']"
   ]
  },
  {
   "cell_type": "code",
   "execution_count": 4,
   "metadata": {},
   "outputs": [],
   "source": [
    "treasurynp=np.array(treasuryvalues)"
   ]
  },
  {
   "cell_type": "markdown",
   "metadata": {},
   "source": [
    "## Copper"
   ]
  },
  {
   "cell_type": "code",
   "execution_count": 5,
   "metadata": {},
   "outputs": [],
   "source": [
    "# https://www.quandl.com/data/FRED/WPUSI019011-Producer-Price-Index-by-Commodity-for-Special-Indexes-Copper-and-Copper-Products\n",
    "copper = quandl.get(\"FRED/WPUSI019011\", start_date='1981-01-01', end_date='2018-01-01', api_key='enter_api_key')"
   ]
  },
  {
   "cell_type": "code",
   "execution_count": 6,
   "metadata": {},
   "outputs": [],
   "source": [
    "coppervalues=copper['Value']"
   ]
  },
  {
   "cell_type": "code",
   "execution_count": 7,
   "metadata": {},
   "outputs": [],
   "source": [
    "coppernp=np.array(coppervalues)"
   ]
  },
  {
   "cell_type": "code",
   "execution_count": 8,
   "metadata": {},
   "outputs": [],
   "source": [
    "copperlog=np.log(coppernp)"
   ]
  },
  {
   "cell_type": "markdown",
   "metadata": {},
   "source": [
    "# Validation Data"
   ]
  },
  {
   "cell_type": "markdown",
   "metadata": {},
   "source": [
    "## Treasuries"
   ]
  },
  {
   "cell_type": "code",
   "execution_count": 9,
   "metadata": {},
   "outputs": [],
   "source": [
    "treasuryval = quandl.get(\"FRED/GS10\", start_date='2018-02-01', end_date='2020-03-01', api_key='enter_api_key')"
   ]
  },
  {
   "cell_type": "code",
   "execution_count": 10,
   "metadata": {},
   "outputs": [],
   "source": [
    "treasuryval=treasuryval['Value']"
   ]
  },
  {
   "cell_type": "code",
   "execution_count": 11,
   "metadata": {},
   "outputs": [],
   "source": [
    "treasuryvalnp=np.array(treasuryval)"
   ]
  },
  {
   "cell_type": "markdown",
   "metadata": {},
   "source": [
    "## Copper"
   ]
  },
  {
   "cell_type": "code",
   "execution_count": 12,
   "metadata": {},
   "outputs": [],
   "source": [
    "copperval = quandl.get(\"FRED/WPUSI019011\", start_date='2018-02-01', end_date='2020-03-01', api_key='enter_api_key')"
   ]
  },
  {
   "cell_type": "code",
   "execution_count": 13,
   "metadata": {},
   "outputs": [],
   "source": [
    "copperval=copperval['Value']"
   ]
  },
  {
   "cell_type": "code",
   "execution_count": 14,
   "metadata": {},
   "outputs": [],
   "source": [
    "coppervalnp=np.array(copperval)\n",
    "coppervallog=np.log(coppervalnp)"
   ]
  },
  {
   "cell_type": "markdown",
   "metadata": {},
   "source": [
    "# Cointegration"
   ]
  },
  {
   "cell_type": "markdown",
   "metadata": {},
   "source": [
    "## Treasury vs. Copper"
   ]
  },
  {
   "cell_type": "code",
   "execution_count": 15,
   "metadata": {},
   "outputs": [
    {
     "data": {
      "text/plain": [
       "(-3.118624703597714,\n",
       " 0.08462298746786284,\n",
       " array([-3.92127651, -3.3499261 , -3.05401605]))"
      ]
     },
     "execution_count": 15,
     "metadata": {},
     "output_type": "execute_result"
    }
   ],
   "source": [
    "coin_result_1 = ts.coint(treasurynp, copperlog)\n",
    "coin_result_1"
   ]
  },
  {
   "cell_type": "code",
   "execution_count": 16,
   "metadata": {},
   "outputs": [
    {
     "data": {
      "text/plain": [
       "(-1.0804685775377714,\n",
       " 0.8864921628087918,\n",
       " array([-4.3881592, -3.5914508, -3.21845  ]))"
      ]
     },
     "execution_count": 16,
     "metadata": {},
     "output_type": "execute_result"
    }
   ],
   "source": [
    "coin_result_2 = ts.coint(treasuryvalnp, coppervallog)\n",
    "coin_result_2"
   ]
  },
  {
   "cell_type": "markdown",
   "metadata": {},
   "source": [
    "# Cross-Correlation"
   ]
  },
  {
   "cell_type": "code",
   "execution_count": 17,
   "metadata": {},
   "outputs": [],
   "source": [
    "x=treasurynp\n",
    "y=copperlog"
   ]
  },
  {
   "cell_type": "code",
   "execution_count": 18,
   "metadata": {},
   "outputs": [],
   "source": [
    "#Dickey-Fuller Tests\n",
    "xdf = ts.adfuller(x, 1)\n",
    "ydf = ts.adfuller(y, 1)"
   ]
  },
  {
   "cell_type": "code",
   "execution_count": 19,
   "metadata": {},
   "outputs": [
    {
     "data": {
      "text/plain": [
       "(-2.0945376531502222,\n",
       " 0.24671670392423872,\n",
       " 1,\n",
       " 443,\n",
       " {'1%': -3.4451978474132234,\n",
       "  '5%': -2.8680864144212057,\n",
       "  '10%': -2.5702569996789792},\n",
       " 120.94064020785993)"
      ]
     },
     "execution_count": 19,
     "metadata": {},
     "output_type": "execute_result"
    }
   ],
   "source": [
    "xdf"
   ]
  },
  {
   "cell_type": "code",
   "execution_count": 20,
   "metadata": {},
   "outputs": [
    {
     "data": {
      "text/plain": [
       "(-1.0053282666129884,\n",
       " 0.7513159807741557,\n",
       " 1,\n",
       " 443,\n",
       " {'1%': -3.4451978474132234,\n",
       "  '5%': -2.8680864144212057,\n",
       "  '10%': -2.5702569996789792},\n",
       " -1659.1722098914383)"
      ]
     },
     "execution_count": 20,
     "metadata": {},
     "output_type": "execute_result"
    }
   ],
   "source": [
    "ydf"
   ]
  },
  {
   "cell_type": "code",
   "execution_count": 21,
   "metadata": {},
   "outputs": [],
   "source": [
    "x=np.array(x)"
   ]
  },
  {
   "cell_type": "code",
   "execution_count": 22,
   "metadata": {},
   "outputs": [],
   "source": [
    "#First-Differencing\n",
    "diffx=np.diff(x, n=1)"
   ]
  },
  {
   "cell_type": "code",
   "execution_count": 23,
   "metadata": {},
   "outputs": [],
   "source": [
    "diffy=np.diff(y, n=1)"
   ]
  },
  {
   "cell_type": "code",
   "execution_count": 24,
   "metadata": {},
   "outputs": [
    {
     "data": {
      "text/plain": [
       "(-14.732190138739616,\n",
       " 2.6490867947962038e-27,\n",
       " 1,\n",
       " 442,\n",
       " {'1%': -3.445231637930579,\n",
       "  '5%': -2.8681012763264233,\n",
       "  '10%': -2.5702649212751583},\n",
       " 114.63351121774383)"
      ]
     },
     "execution_count": 24,
     "metadata": {},
     "output_type": "execute_result"
    }
   ],
   "source": [
    "resultx = ts.adfuller(diffx, 1)\n",
    "resultx"
   ]
  },
  {
   "cell_type": "code",
   "execution_count": 25,
   "metadata": {},
   "outputs": [
    {
     "data": {
      "text/plain": [
       "(-13.712364663595924,\n",
       " 1.230847165082792e-25,\n",
       " 0,\n",
       " 443,\n",
       " {'1%': -3.4451978474132234,\n",
       "  '5%': -2.8680864144212057,\n",
       "  '10%': -2.5702569996789792},\n",
       " -1655.4032666104895)"
      ]
     },
     "execution_count": 25,
     "metadata": {},
     "output_type": "execute_result"
    }
   ],
   "source": [
    "resulty = ts.adfuller(diffy, 1)\n",
    "resulty"
   ]
  },
  {
   "cell_type": "code",
   "execution_count": 26,
   "metadata": {},
   "outputs": [
    {
     "name": "stdout",
     "output_type": "stream",
     "text": [
      "0.16344286819856327 0.1634428681985633\n"
     ]
    }
   ],
   "source": [
    "# Calculate correlations\n",
    "cc1 = np.correlate(diffx - diffx.mean(), diffy - diffy.mean())[0] # Remove means\n",
    "cc1\n",
    "cc1 /= (len(diffx) * diffx.std() * diffy.std()) #Normalise by number of points and product of standard deviations\n",
    "cc1\n",
    "cc2 = np.corrcoef(diffx, diffy)[0, 1]\n",
    "cc2\n",
    "print(cc1, cc2)"
   ]
  },
  {
   "cell_type": "code",
   "execution_count": 27,
   "metadata": {},
   "outputs": [
    {
     "data": {
      "image/png": "[encoded data removed]",
      "text/plain": [
       "<Figure size 432x288 with 1 Axes>"
      ]
     },
     "metadata": {
      "needs_background": "light"
     },
     "output_type": "display_data"
    }
   ],
   "source": [
    "# Generating lags\n",
    "nx = 10\n",
    "nx\n",
    "x = np.random.randn(nx) # normal RV\n",
    "x\n",
    "lags = np.arange(-nx + 1, nx) # so last value is nx - 1\n",
    "lags\n",
    "xdm = x - x.mean() # Remove sample mean\n",
    "xdm\n",
    "\n",
    "autocorr_xdm = np.correlate(xdm, xdm, mode='full')\n",
    "# Normalize by the zero-lag value:\n",
    "autocorr_xdm /= autocorr_xdm[nx - 1]\n",
    "\n",
    "fig, ax = plt.subplots()\n",
    "ax.plot(lags, autocorr_xdm, 'b')\n",
    "ax.set_xlabel('lag')\n",
    "ax.set_ylabel('correlation coefficient')\n",
    "ax.grid(True)\n",
    "plt.title(\"10-Year Treasury vs Copper Prices\")\n",
    "plt.show()"
   ]
  },
  {
   "cell_type": "markdown",
   "metadata": {},
   "source": [
    "# ARIMA\n",
    "\n",
    "## U.S. Inflation Forecasts"
   ]
  },
  {
   "cell_type": "code",
   "execution_count": 28,
   "metadata": {},
   "outputs": [
    {
     "data": {
      "text/html": [
       "<div>\n",
       "<style scoped>\n",
       "    .dataframe tbody tr th:only-of-type {\n",
       "        vertical-align: middle;\n",
       "    }\n",
       "\n",
       "    .dataframe tbody tr th {\n",
       "        vertical-align: top;\n",
       "    }\n",
       "\n",
       "    .dataframe thead th {\n",
       "        text-align: right;\n",
       "    }\n",
       "</style>\n",
       "<table border=\"1\" class=\"dataframe\">\n",
       "  <thead>\n",
       "    <tr style=\"text-align: right;\">\n",
       "      <th></th>\n",
       "      <th>Value</th>\n",
       "    </tr>\n",
       "    <tr>\n",
       "      <th>Date</th>\n",
       "      <th></th>\n",
       "    </tr>\n",
       "  </thead>\n",
       "  <tbody>\n",
       "    <tr>\n",
       "      <th>1960-01-01</th>\n",
       "      <td>1.457976</td>\n",
       "    </tr>\n",
       "    <tr>\n",
       "      <th>1961-01-01</th>\n",
       "      <td>1.070724</td>\n",
       "    </tr>\n",
       "    <tr>\n",
       "      <th>1962-01-01</th>\n",
       "      <td>1.198773</td>\n",
       "    </tr>\n",
       "    <tr>\n",
       "      <th>1963-01-01</th>\n",
       "      <td>1.239669</td>\n",
       "    </tr>\n",
       "    <tr>\n",
       "      <th>1964-01-01</th>\n",
       "      <td>1.278912</td>\n",
       "    </tr>\n",
       "    <tr>\n",
       "      <th>1965-01-01</th>\n",
       "      <td>1.585169</td>\n",
       "    </tr>\n",
       "    <tr>\n",
       "      <th>1966-01-01</th>\n",
       "      <td>3.015075</td>\n",
       "    </tr>\n",
       "    <tr>\n",
       "      <th>1967-01-01</th>\n",
       "      <td>2.772786</td>\n",
       "    </tr>\n",
       "    <tr>\n",
       "      <th>1968-01-01</th>\n",
       "      <td>4.271796</td>\n",
       "    </tr>\n",
       "    <tr>\n",
       "      <th>1969-01-01</th>\n",
       "      <td>5.462386</td>\n",
       "    </tr>\n",
       "    <tr>\n",
       "      <th>1970-01-01</th>\n",
       "      <td>5.838255</td>\n",
       "    </tr>\n",
       "    <tr>\n",
       "      <th>1971-01-01</th>\n",
       "      <td>4.292767</td>\n",
       "    </tr>\n",
       "    <tr>\n",
       "      <th>1972-01-01</th>\n",
       "      <td>3.272278</td>\n",
       "    </tr>\n",
       "    <tr>\n",
       "      <th>1973-01-01</th>\n",
       "      <td>6.177760</td>\n",
       "    </tr>\n",
       "    <tr>\n",
       "      <th>1974-01-01</th>\n",
       "      <td>11.054805</td>\n",
       "    </tr>\n",
       "    <tr>\n",
       "      <th>1975-01-01</th>\n",
       "      <td>9.143147</td>\n",
       "    </tr>\n",
       "    <tr>\n",
       "      <th>1976-01-01</th>\n",
       "      <td>5.744813</td>\n",
       "    </tr>\n",
       "    <tr>\n",
       "      <th>1977-01-01</th>\n",
       "      <td>6.501684</td>\n",
       "    </tr>\n",
       "    <tr>\n",
       "      <th>1978-01-01</th>\n",
       "      <td>7.630964</td>\n",
       "    </tr>\n",
       "    <tr>\n",
       "      <th>1979-01-01</th>\n",
       "      <td>11.254471</td>\n",
       "    </tr>\n",
       "    <tr>\n",
       "      <th>1980-01-01</th>\n",
       "      <td>13.549202</td>\n",
       "    </tr>\n",
       "    <tr>\n",
       "      <th>1981-01-01</th>\n",
       "      <td>10.334715</td>\n",
       "    </tr>\n",
       "    <tr>\n",
       "      <th>1982-01-01</th>\n",
       "      <td>6.131427</td>\n",
       "    </tr>\n",
       "    <tr>\n",
       "      <th>1983-01-01</th>\n",
       "      <td>3.212435</td>\n",
       "    </tr>\n",
       "    <tr>\n",
       "      <th>1984-01-01</th>\n",
       "      <td>4.300535</td>\n",
       "    </tr>\n",
       "    <tr>\n",
       "      <th>1985-01-01</th>\n",
       "      <td>3.545644</td>\n",
       "    </tr>\n",
       "    <tr>\n",
       "      <th>1986-01-01</th>\n",
       "      <td>1.898048</td>\n",
       "    </tr>\n",
       "    <tr>\n",
       "      <th>1987-01-01</th>\n",
       "      <td>3.664563</td>\n",
       "    </tr>\n",
       "    <tr>\n",
       "      <th>1988-01-01</th>\n",
       "      <td>4.077741</td>\n",
       "    </tr>\n",
       "    <tr>\n",
       "      <th>1989-01-01</th>\n",
       "      <td>4.827003</td>\n",
       "    </tr>\n",
       "    <tr>\n",
       "      <th>1990-01-01</th>\n",
       "      <td>5.397956</td>\n",
       "    </tr>\n",
       "    <tr>\n",
       "      <th>1991-01-01</th>\n",
       "      <td>4.234964</td>\n",
       "    </tr>\n",
       "    <tr>\n",
       "      <th>1992-01-01</th>\n",
       "      <td>3.028820</td>\n",
       "    </tr>\n",
       "    <tr>\n",
       "      <th>1993-01-01</th>\n",
       "      <td>2.951657</td>\n",
       "    </tr>\n",
       "    <tr>\n",
       "      <th>1994-01-01</th>\n",
       "      <td>2.607442</td>\n",
       "    </tr>\n",
       "    <tr>\n",
       "      <th>1995-01-01</th>\n",
       "      <td>2.805420</td>\n",
       "    </tr>\n",
       "    <tr>\n",
       "      <th>1996-01-01</th>\n",
       "      <td>2.931204</td>\n",
       "    </tr>\n",
       "    <tr>\n",
       "      <th>1997-01-01</th>\n",
       "      <td>2.337690</td>\n",
       "    </tr>\n",
       "    <tr>\n",
       "      <th>1998-01-01</th>\n",
       "      <td>1.552279</td>\n",
       "    </tr>\n",
       "    <tr>\n",
       "      <th>1999-01-01</th>\n",
       "      <td>2.188027</td>\n",
       "    </tr>\n",
       "    <tr>\n",
       "      <th>2000-01-01</th>\n",
       "      <td>3.376857</td>\n",
       "    </tr>\n",
       "    <tr>\n",
       "      <th>2001-01-01</th>\n",
       "      <td>2.826171</td>\n",
       "    </tr>\n",
       "    <tr>\n",
       "      <th>2002-01-01</th>\n",
       "      <td>1.586032</td>\n",
       "    </tr>\n",
       "    <tr>\n",
       "      <th>2003-01-01</th>\n",
       "      <td>2.270095</td>\n",
       "    </tr>\n",
       "    <tr>\n",
       "      <th>2004-01-01</th>\n",
       "      <td>2.677237</td>\n",
       "    </tr>\n",
       "    <tr>\n",
       "      <th>2005-01-01</th>\n",
       "      <td>3.392747</td>\n",
       "    </tr>\n",
       "    <tr>\n",
       "      <th>2006-01-01</th>\n",
       "      <td>3.225944</td>\n",
       "    </tr>\n",
       "    <tr>\n",
       "      <th>2007-01-01</th>\n",
       "      <td>2.852672</td>\n",
       "    </tr>\n",
       "    <tr>\n",
       "      <th>2008-01-01</th>\n",
       "      <td>3.839100</td>\n",
       "    </tr>\n",
       "    <tr>\n",
       "      <th>2009-01-01</th>\n",
       "      <td>-0.355546</td>\n",
       "    </tr>\n",
       "    <tr>\n",
       "      <th>2010-01-01</th>\n",
       "      <td>1.640043</td>\n",
       "    </tr>\n",
       "    <tr>\n",
       "      <th>2011-01-01</th>\n",
       "      <td>3.156842</td>\n",
       "    </tr>\n",
       "    <tr>\n",
       "      <th>2012-01-01</th>\n",
       "      <td>2.069337</td>\n",
       "    </tr>\n",
       "    <tr>\n",
       "      <th>2013-01-01</th>\n",
       "      <td>1.464833</td>\n",
       "    </tr>\n",
       "    <tr>\n",
       "      <th>2014-01-01</th>\n",
       "      <td>1.622223</td>\n",
       "    </tr>\n",
       "    <tr>\n",
       "      <th>2015-01-01</th>\n",
       "      <td>0.118627</td>\n",
       "    </tr>\n",
       "    <tr>\n",
       "      <th>2016-01-01</th>\n",
       "      <td>1.261583</td>\n",
       "    </tr>\n",
       "    <tr>\n",
       "      <th>2017-01-01</th>\n",
       "      <td>2.130110</td>\n",
       "    </tr>\n",
       "    <tr>\n",
       "      <th>2018-01-01</th>\n",
       "      <td>2.442583</td>\n",
       "    </tr>\n",
       "    <tr>\n",
       "      <th>2019-01-01</th>\n",
       "      <td>1.812210</td>\n",
       "    </tr>\n",
       "  </tbody>\n",
       "</table>\n",
       "</div>"
      ],
      "text/plain": [
       "                Value\n",
       "Date                 \n",
       "1960-01-01   1.457976\n",
       "1961-01-01   1.070724\n",
       "1962-01-01   1.198773\n",
       "1963-01-01   1.239669\n",
       "1964-01-01   1.278912\n",
       "1965-01-01   1.585169\n",
       "1966-01-01   3.015075\n",
       "1967-01-01   2.772786\n",
       "1968-01-01   4.271796\n",
       "1969-01-01   5.462386\n",
       "1970-01-01   5.838255\n",
       "1971-01-01   4.292767\n",
       "1972-01-01   3.272278\n",
       "1973-01-01   6.177760\n",
       "1974-01-01  11.054805\n",
       "1975-01-01   9.143147\n",
       "1976-01-01   5.744813\n",
       "1977-01-01   6.501684\n",
       "1978-01-01   7.630964\n",
       "1979-01-01  11.254471\n",
       "1980-01-01  13.549202\n",
       "1981-01-01  10.334715\n",
       "1982-01-01   6.131427\n",
       "1983-01-01   3.212435\n",
       "1984-01-01   4.300535\n",
       "1985-01-01   3.545644\n",
       "1986-01-01   1.898048\n",
       "1987-01-01   3.664563\n",
       "1988-01-01   4.077741\n",
       "1989-01-01   4.827003\n",
       "1990-01-01   5.397956\n",
       "1991-01-01   4.234964\n",
       "1992-01-01   3.028820\n",
       "1993-01-01   2.951657\n",
       "1994-01-01   2.607442\n",
       "1995-01-01   2.805420\n",
       "1996-01-01   2.931204\n",
       "1997-01-01   2.337690\n",
       "1998-01-01   1.552279\n",
       "1999-01-01   2.188027\n",
       "2000-01-01   3.376857\n",
       "2001-01-01   2.826171\n",
       "2002-01-01   1.586032\n",
       "2003-01-01   2.270095\n",
       "2004-01-01   2.677237\n",
       "2005-01-01   3.392747\n",
       "2006-01-01   3.225944\n",
       "2007-01-01   2.852672\n",
       "2008-01-01   3.839100\n",
       "2009-01-01  -0.355546\n",
       "2010-01-01   1.640043\n",
       "2011-01-01   3.156842\n",
       "2012-01-01   2.069337\n",
       "2013-01-01   1.464833\n",
       "2014-01-01   1.622223\n",
       "2015-01-01   0.118627\n",
       "2016-01-01   1.261583\n",
       "2017-01-01   2.130110\n",
       "2018-01-01   2.442583\n",
       "2019-01-01   1.812210"
      ]
     },
     "execution_count": 28,
     "metadata": {},
     "output_type": "execute_result"
    }
   ],
   "source": [
    "usinf = quandl.get(\"FRED/FPCPITOTLZGUSA\", start_date='1960-01-01', end_date='2019-01-01', api_key='enter_api_key')\n",
    "usinf"
   ]
  },
  {
   "cell_type": "code",
   "execution_count": 29,
   "metadata": {},
   "outputs": [],
   "source": [
    "train=usinf[1:54]\n",
    "val=usinf[55:60]"
   ]
  },
  {
   "cell_type": "code",
   "execution_count": 30,
   "metadata": {},
   "outputs": [
    {
     "name": "stderr",
     "output_type": "stream",
     "text": [
      "/home/michael/.local/lib/python3.6/site-packages/sklearn/externals/six.py:31: FutureWarning: The module is deprecated in version 0.21 and will be removed in version 0.23 since we've dropped support for Python 2.7. Please rely on the official version of six (https://pypi.org/project/six/).\n",
      "  \"(https://pypi.org/project/six/).\", FutureWarning)\n",
      "/home/michael/.local/lib/python3.6/site-packages/sklearn/externals/joblib/__init__.py:15: FutureWarning: sklearn.externals.joblib is deprecated in 0.21 and will be removed in 0.23. Please import this functionality directly from joblib, which can be installed with: pip install joblib. If this warning is raised when loading pickled models, you may need to re-serialize those models with scikit-learn 0.21+.\n",
      "  warnings.warn(msg, category=FutureWarning)\n",
      "/home/michael/.local/lib/python3.6/site-packages/pyramid/__init__.py:68: UserWarning: \n",
      "    The 'pyramid' package will be migrating to a new namespace beginning in \n",
      "    version 1.0.0: 'pmdarima'. This is due to a package name collision with the\n",
      "    Pyramid web framework. For more information, see Issue #34:\n",
      "    \n",
      "        https://github.com/tgsmith61591/pyramid/issues/34\n",
      "        \n",
      "    The package will subsequently be installable via the name 'pmdarima'; the\n",
      "    only functional change to the user will be the import name. All imports\n",
      "    from 'pyramid' will change to 'pmdarima'.\n",
      "    \n",
      "  \"\"\", UserWarning)\n"
     ]
    },
    {
     "name": "stdout",
     "output_type": "stream",
     "text": [
      "Fit ARIMA: order=(0, 1, 0); AIC=209.234, BIC=213.137, Fit time=0.002 seconds\n",
      "Fit ARIMA: order=(1, 1, 0); AIC=209.761, BIC=215.615, Fit time=0.012 seconds\n",
      "Fit ARIMA: order=(0, 1, 1); AIC=207.047, BIC=212.901, Fit time=0.011 seconds\n",
      "Fit ARIMA: order=(1, 1, 1); AIC=206.228, BIC=214.033, Fit time=0.041 seconds\n",
      "Fit ARIMA: order=(1, 1, 2); AIC=nan, BIC=nan, Fit time=nan seconds\n",
      "Fit ARIMA: order=(2, 1, 2); AIC=204.854, BIC=216.561, Fit time=0.075 seconds\n"
     ]
    },
    {
     "name": "stderr",
     "output_type": "stream",
     "text": [
      "/home/michael/.local/lib/python3.6/site-packages/pyramid/arima/auto.py:864: ModelFitWarning: Unable to fit ARIMA for order=(1, 1, 2); data is likely non-stationary. (if you do not want to see these warnings, run with error_action=\"ignore\")\n",
      "  ModelFitWarning)\n"
     ]
    },
    {
     "name": "stdout",
     "output_type": "stream",
     "text": [
      "Fit ARIMA: order=(3, 1, 2); AIC=205.380, BIC=219.038, Fit time=0.089 seconds\n",
      "Fit ARIMA: order=(2, 1, 1); AIC=202.858, BIC=212.614, Fit time=0.034 seconds\n",
      "Fit ARIMA: order=(3, 1, 1); AIC=204.858, BIC=216.565, Fit time=0.056 seconds\n",
      "Fit ARIMA: order=(2, 1, 0); AIC=202.206, BIC=210.011, Fit time=0.018 seconds\n",
      "Fit ARIMA: order=(3, 1, 0); AIC=203.353, BIC=213.109, Fit time=0.029 seconds\n",
      "Total fit time: 0.377 seconds\n"
     ]
    }
   ],
   "source": [
    "from pyramid.arima import auto_arima\n",
    "Arima_model=auto_arima(train, start_p=0, start_q=0, max_p=10, max_q=10, start_P=0, start_Q=0, max_P=10, max_Q=10, m=52, seasonal=False, trace=True, d=1, D=1, error_action='warn', suppress_warnings=True, random_state = 20, n_fits=30)"
   ]
  },
  {
   "cell_type": "code",
   "execution_count": 31,
   "metadata": {},
   "outputs": [
    {
     "data": {
      "text/html": [
       "<table class=\"simpletable\">\n",
       "<caption>ARIMA Model Results</caption>\n",
       "<tr>\n",
       "  <th>Dep. Variable:</th>        <td>D.y</td>       <th>  No. Observations:  </th>   <td>52</td>   \n",
       "</tr>\n",
       "<tr>\n",
       "  <th>Model:</th>          <td>ARIMA(2, 1, 0)</td>  <th>  Log Likelihood     </th> <td>-97.103</td>\n",
       "</tr>\n",
       "<tr>\n",
       "  <th>Method:</th>             <td>css-mle</td>     <th>  S.D. of innovations</th>  <td>1.560</td> \n",
       "</tr>\n",
       "<tr>\n",
       "  <th>Date:</th>          <td>Fri, 15 May 2020</td> <th>  AIC                </th> <td>202.206</td>\n",
       "</tr>\n",
       "<tr>\n",
       "  <th>Time:</th>              <td>12:21:49</td>     <th>  BIC                </th> <td>210.011</td>\n",
       "</tr>\n",
       "<tr>\n",
       "  <th>Sample:</th>                <td>1</td>        <th>  HQIC               </th> <td>205.199</td>\n",
       "</tr>\n",
       "<tr>\n",
       "  <th></th>                       <td> </td>        <th>                     </th>    <td> </td>   \n",
       "</tr>\n",
       "</table>\n",
       "<table class=\"simpletable\">\n",
       "<tr>\n",
       "      <td></td>         <th>coef</th>     <th>std err</th>      <th>z</th>      <th>P>|z|</th>  <th>[0.025</th>    <th>0.975]</th>  \n",
       "</tr>\n",
       "<tr>\n",
       "  <th>const</th>     <td>    0.0162</td> <td>    0.187</td> <td>    0.087</td> <td> 0.931</td> <td>   -0.350</td> <td>    0.382</td>\n",
       "</tr>\n",
       "<tr>\n",
       "  <th>ar.L1.D.y</th> <td>    0.2334</td> <td>    0.126</td> <td>    1.859</td> <td> 0.063</td> <td>   -0.013</td> <td>    0.480</td>\n",
       "</tr>\n",
       "<tr>\n",
       "  <th>ar.L2.D.y</th> <td>   -0.4033</td> <td>    0.123</td> <td>   -3.267</td> <td> 0.001</td> <td>   -0.645</td> <td>   -0.161</td>\n",
       "</tr>\n",
       "</table>\n",
       "<table class=\"simpletable\">\n",
       "<caption>Roots</caption>\n",
       "<tr>\n",
       "    <td></td>   <th>            Real</th>  <th>         Imaginary</th> <th>         Modulus</th>  <th>        Frequency</th>\n",
       "</tr>\n",
       "<tr>\n",
       "  <th>AR.1</th> <td>           0.2893</td> <td>          -1.5478j</td> <td>           1.5746</td> <td>          -0.2206</td>\n",
       "</tr>\n",
       "<tr>\n",
       "  <th>AR.2</th> <td>           0.2893</td> <td>          +1.5478j</td> <td>           1.5746</td> <td>           0.2206</td>\n",
       "</tr>\n",
       "</table>"
      ],
      "text/plain": [
       "<class 'statsmodels.iolib.summary.Summary'>\n",
       "\"\"\"\n",
       "                             ARIMA Model Results                              \n",
       "==============================================================================\n",
       "Dep. Variable:                    D.y   No. Observations:                   52\n",
       "Model:                 ARIMA(2, 1, 0)   Log Likelihood                 -97.103\n",
       "Method:                       css-mle   S.D. of innovations              1.560\n",
       "Date:                Fri, 15 May 2020   AIC                            202.206\n",
       "Time:                        12:21:49   BIC                            210.011\n",
       "Sample:                             1   HQIC                           205.199\n",
       "                                                                              \n",
       "==============================================================================\n",
       "                 coef    std err          z      P>|z|      [0.025      0.975]\n",
       "------------------------------------------------------------------------------\n",
       "const          0.0162      0.187      0.087      0.931      -0.350       0.382\n",
       "ar.L1.D.y      0.2334      0.126      1.859      0.063      -0.013       0.480\n",
       "ar.L2.D.y     -0.4033      0.123     -3.267      0.001      -0.645      -0.161\n",
       "                                    Roots                                    \n",
       "=============================================================================\n",
       "                  Real          Imaginary           Modulus         Frequency\n",
       "-----------------------------------------------------------------------------\n",
       "AR.1            0.2893           -1.5478j            1.5746           -0.2206\n",
       "AR.2            0.2893           +1.5478j            1.5746            0.2206\n",
       "-----------------------------------------------------------------------------\n",
       "\"\"\""
      ]
     },
     "execution_count": 31,
     "metadata": {},
     "output_type": "execute_result"
    }
   ],
   "source": [
    "Arima_model.summary()"
   ]
  },
  {
   "cell_type": "code",
   "execution_count": 32,
   "metadata": {},
   "outputs": [],
   "source": [
    "prediction=pd.DataFrame(Arima_model.predict(n_periods=5), index=val.index)\n",
    "prediction.columns = ['Predicted_Inflation']\n",
    "predictions=prediction['Predicted_Inflation']"
   ]
  },
  {
   "cell_type": "code",
   "execution_count": 33,
   "metadata": {},
   "outputs": [
    {
     "data": {
      "image/png": "[encoded data removed]",
      "text/plain": [
       "<Figure size 1080x720 with 1 Axes>"
      ]
     },
     "metadata": {
      "needs_background": "light"
     },
     "output_type": "display_data"
    }
   ],
   "source": [
    "plt.figure(figsize=(15,10))\n",
    "plt.plot(train, label='Training')\n",
    "plt.plot(val, label='Validation')\n",
    "plt.plot(prediction, label='Predicted')\n",
    "plt.legend(loc = 'upper center')\n",
    "plt.title(\"Inflation\")\n",
    "plt.show()"
   ]
  },
  {
   "cell_type": "code",
   "execution_count": 34,
   "metadata": {},
   "outputs": [
    {
     "name": "stdout",
     "output_type": "stream",
     "text": [
      "RMSE: 0.866269\n"
     ]
    }
   ],
   "source": [
    "import math\n",
    "from sklearn.metrics import mean_squared_error\n",
    "\n",
    "mse = mean_squared_error(val, predictions)\n",
    "rmse = math.sqrt(mse)\n",
    "print('RMSE: %f' % rmse)"
   ]
  },
  {
   "cell_type": "code",
   "execution_count": 35,
   "metadata": {},
   "outputs": [
    {
     "data": {
      "text/html": [
       "<div>\n",
       "<style scoped>\n",
       "    .dataframe tbody tr th:only-of-type {\n",
       "        vertical-align: middle;\n",
       "    }\n",
       "\n",
       "    .dataframe tbody tr th {\n",
       "        vertical-align: top;\n",
       "    }\n",
       "\n",
       "    .dataframe thead th {\n",
       "        text-align: right;\n",
       "    }\n",
       "</style>\n",
       "<table border=\"1\" class=\"dataframe\">\n",
       "  <thead>\n",
       "    <tr style=\"text-align: right;\">\n",
       "      <th></th>\n",
       "      <th>Value</th>\n",
       "    </tr>\n",
       "    <tr>\n",
       "      <th>Date</th>\n",
       "      <th></th>\n",
       "    </tr>\n",
       "  </thead>\n",
       "  <tbody>\n",
       "    <tr>\n",
       "      <th>2015-01-01</th>\n",
       "      <td>0.118627</td>\n",
       "    </tr>\n",
       "    <tr>\n",
       "      <th>2016-01-01</th>\n",
       "      <td>1.261583</td>\n",
       "    </tr>\n",
       "    <tr>\n",
       "      <th>2017-01-01</th>\n",
       "      <td>2.130110</td>\n",
       "    </tr>\n",
       "    <tr>\n",
       "      <th>2018-01-01</th>\n",
       "      <td>2.442583</td>\n",
       "    </tr>\n",
       "    <tr>\n",
       "      <th>2019-01-01</th>\n",
       "      <td>1.812210</td>\n",
       "    </tr>\n",
       "  </tbody>\n",
       "</table>\n",
       "</div>"
      ],
      "text/plain": [
       "               Value\n",
       "Date                \n",
       "2015-01-01  0.118627\n",
       "2016-01-01  1.261583\n",
       "2017-01-01  2.130110\n",
       "2018-01-01  2.442583\n",
       "2019-01-01  1.812210"
      ]
     },
     "execution_count": 35,
     "metadata": {},
     "output_type": "execute_result"
    }
   ],
   "source": [
    "val"
   ]
  },
  {
   "cell_type": "code",
   "execution_count": 36,
   "metadata": {},
   "outputs": [
    {
     "data": {
      "text/plain": [
       "Date\n",
       "2015-01-01    1.781247\n",
       "2016-01-01    2.117794\n",
       "2017-01-01    2.087625\n",
       "2018-01-01    1.963748\n",
       "2019-01-01    1.965902\n",
       "Name: Predicted_Inflation, dtype: float64"
      ]
     },
     "execution_count": 36,
     "metadata": {},
     "output_type": "execute_result"
    }
   ],
   "source": [
    "predictions"
   ]
  },
  {
   "cell_type": "code",
   "execution_count": 37,
   "metadata": {},
   "outputs": [],
   "source": [
    "future=pd.DataFrame(Arima_model.predict(n_periods=20))"
   ]
  },
  {
   "cell_type": "code",
   "execution_count": 38,
   "metadata": {},
   "outputs": [
    {
     "data": {
      "text/html": [
       "<div>\n",
       "<style scoped>\n",
       "    .dataframe tbody tr th:only-of-type {\n",
       "        vertical-align: middle;\n",
       "    }\n",
       "\n",
       "    .dataframe tbody tr th {\n",
       "        vertical-align: top;\n",
       "    }\n",
       "\n",
       "    .dataframe thead th {\n",
       "        text-align: right;\n",
       "    }\n",
       "</style>\n",
       "<table border=\"1\" class=\"dataframe\">\n",
       "  <thead>\n",
       "    <tr style=\"text-align: right;\">\n",
       "      <th></th>\n",
       "      <th>0</th>\n",
       "    </tr>\n",
       "  </thead>\n",
       "  <tbody>\n",
       "    <tr>\n",
       "      <th>0</th>\n",
       "      <td>1.781247</td>\n",
       "    </tr>\n",
       "    <tr>\n",
       "      <th>1</th>\n",
       "      <td>2.117794</td>\n",
       "    </tr>\n",
       "    <tr>\n",
       "      <th>2</th>\n",
       "      <td>2.087625</td>\n",
       "    </tr>\n",
       "    <tr>\n",
       "      <th>3</th>\n",
       "      <td>1.963748</td>\n",
       "    </tr>\n",
       "    <tr>\n",
       "      <th>4</th>\n",
       "      <td>1.965902</td>\n",
       "    </tr>\n",
       "    <tr>\n",
       "      <th>5</th>\n",
       "      <td>2.035262</td>\n",
       "    </tr>\n",
       "    <tr>\n",
       "      <th>6</th>\n",
       "      <td>2.069479</td>\n",
       "    </tr>\n",
       "    <tr>\n",
       "      <th>7</th>\n",
       "      <td>2.068388</td>\n",
       "    </tr>\n",
       "    <tr>\n",
       "      <th>8</th>\n",
       "      <td>2.073231</td>\n",
       "    </tr>\n",
       "    <tr>\n",
       "      <th>9</th>\n",
       "      <td>2.093699</td>\n",
       "    </tr>\n",
       "    <tr>\n",
       "      <th>10</th>\n",
       "      <td>2.115420</td>\n",
       "    </tr>\n",
       "    <tr>\n",
       "      <th>11</th>\n",
       "      <td>2.131132</td>\n",
       "    </tr>\n",
       "    <tr>\n",
       "      <th>12</th>\n",
       "      <td>2.144936</td>\n",
       "    </tr>\n",
       "    <tr>\n",
       "      <th>13</th>\n",
       "      <td>2.160718</td>\n",
       "    </tr>\n",
       "    <tr>\n",
       "      <th>14</th>\n",
       "      <td>2.177731</td>\n",
       "    </tr>\n",
       "    <tr>\n",
       "      <th>15</th>\n",
       "      <td>2.194234</td>\n",
       "    </tr>\n",
       "    <tr>\n",
       "      <th>16</th>\n",
       "      <td>2.210122</td>\n",
       "    </tr>\n",
       "    <tr>\n",
       "      <th>17</th>\n",
       "      <td>2.226071</td>\n",
       "    </tr>\n",
       "    <tr>\n",
       "      <th>18</th>\n",
       "      <td>2.242283</td>\n",
       "    </tr>\n",
       "    <tr>\n",
       "      <th>19</th>\n",
       "      <td>2.258532</td>\n",
       "    </tr>\n",
       "  </tbody>\n",
       "</table>\n",
       "</div>"
      ],
      "text/plain": [
       "           0\n",
       "0   1.781247\n",
       "1   2.117794\n",
       "2   2.087625\n",
       "3   1.963748\n",
       "4   1.965902\n",
       "5   2.035262\n",
       "6   2.069479\n",
       "7   2.068388\n",
       "8   2.073231\n",
       "9   2.093699\n",
       "10  2.115420\n",
       "11  2.131132\n",
       "12  2.144936\n",
       "13  2.160718\n",
       "14  2.177731\n",
       "15  2.194234\n",
       "16  2.210122\n",
       "17  2.226071\n",
       "18  2.242283\n",
       "19  2.258532"
      ]
     },
     "execution_count": 38,
     "metadata": {},
     "output_type": "execute_result"
    }
   ],
   "source": [
    "future=future[0:20]\n",
    "future"
   ]
  },
  {
   "cell_type": "code",
   "execution_count": 39,
   "metadata": {},
   "outputs": [
    {
     "data": {
      "text/plain": [
       "Text(0.5, 1.0, 'ARIMA Forecast')"
      ]
     },
     "execution_count": 39,
     "metadata": {},
     "output_type": "execute_result"
    },
    {
     "data": {
      "image/png": "[encoded data removed]",
      "text/plain": [
       "<Figure size 432x288 with 1 Axes>"
      ]
     },
     "metadata": {
      "needs_background": "light"
     },
     "output_type": "display_data"
    }
   ],
   "source": [
    "plt.plot(future)\n",
    "plt.title(\"ARIMA Forecast\")"
   ]
  },
  {
   "cell_type": "markdown",
   "metadata": {},
   "source": [
    "## US 10-Year Treasury"
   ]
  },
  {
   "cell_type": "code",
   "execution_count": 40,
   "metadata": {},
   "outputs": [
    {
     "name": "stdout",
     "output_type": "stream",
     "text": [
      "Fit ARIMA: order=(0, 1, 0); AIC=162.550, BIC=170.742, Fit time=0.007 seconds\n",
      "Fit ARIMA: order=(1, 1, 0); AIC=129.653, BIC=141.940, Fit time=0.018 seconds\n",
      "Fit ARIMA: order=(0, 1, 1); AIC=117.501, BIC=129.788, Fit time=0.059 seconds\n",
      "Fit ARIMA: order=(1, 1, 1); AIC=115.158, BIC=131.541, Fit time=0.044 seconds\n",
      "Fit ARIMA: order=(1, 1, 2); AIC=117.141, BIC=137.620, Fit time=0.092 seconds\n",
      "Fit ARIMA: order=(2, 1, 2); AIC=112.047, BIC=136.622, Fit time=0.328 seconds\n",
      "Fit ARIMA: order=(3, 1, 2); AIC=121.120, BIC=149.790, Fit time=0.324 seconds\n",
      "Fit ARIMA: order=(2, 1, 1); AIC=117.142, BIC=137.621, Fit time=0.081 seconds\n",
      "Fit ARIMA: order=(2, 1, 3); AIC=nan, BIC=nan, Fit time=nan seconds\n"
     ]
    },
    {
     "name": "stderr",
     "output_type": "stream",
     "text": [
      "/home/michael/.local/lib/python3.6/site-packages/pyramid/arima/auto.py:864: ModelFitWarning: Unable to fit ARIMA for order=(2, 1, 3); data is likely non-stationary. (if you do not want to see these warnings, run with error_action=\"ignore\")\n",
      "  ModelFitWarning)\n"
     ]
    },
    {
     "name": "stdout",
     "output_type": "stream",
     "text": [
      "Fit ARIMA: order=(3, 1, 3); AIC=116.439, BIC=149.205, Fit time=0.500 seconds\n",
      "Total fit time: 1.469 seconds\n"
     ]
    }
   ],
   "source": [
    "Arima_model_two=auto_arima(treasury, start_p=0, start_q=0, max_p=10, max_q=10, start_P=0, start_Q=0, max_P=10, max_Q=10, m=52, seasonal=False, trace=True, d=1, D=1, error_action='warn', suppress_warnings=True, random_state = 20, n_fits=30)\n",
    "prediction=pd.DataFrame(Arima_model.predict(n_periods=26), index=treasuryval.index)\n",
    "prediction.columns = ['Predicted_Treasury_Rate']\n",
    "predictions_treasury=prediction['Predicted_Treasury_Rate']"
   ]
  },
  {
   "cell_type": "code",
   "execution_count": 41,
   "metadata": {},
   "outputs": [
    {
     "data": {
      "text/html": [
       "<table class=\"simpletable\">\n",
       "<caption>ARIMA Model Results</caption>\n",
       "<tr>\n",
       "  <th>Dep. Variable:</th>        <td>D.y</td>       <th>  No. Observations:  </th>   <td>444</td>  \n",
       "</tr>\n",
       "<tr>\n",
       "  <th>Model:</th>          <td>ARIMA(2, 1, 2)</td>  <th>  Log Likelihood     </th> <td>-50.024</td>\n",
       "</tr>\n",
       "<tr>\n",
       "  <th>Method:</th>             <td>css-mle</td>     <th>  S.D. of innovations</th>  <td>0.270</td> \n",
       "</tr>\n",
       "<tr>\n",
       "  <th>Date:</th>          <td>Fri, 15 May 2020</td> <th>  AIC                </th> <td>112.047</td>\n",
       "</tr>\n",
       "<tr>\n",
       "  <th>Time:</th>              <td>12:21:51</td>     <th>  BIC                </th> <td>136.622</td>\n",
       "</tr>\n",
       "<tr>\n",
       "  <th>Sample:</th>                <td>1</td>        <th>  HQIC               </th> <td>121.739</td>\n",
       "</tr>\n",
       "<tr>\n",
       "  <th></th>                       <td> </td>        <th>                     </th>    <td> </td>   \n",
       "</tr>\n",
       "</table>\n",
       "<table class=\"simpletable\">\n",
       "<tr>\n",
       "      <td></td>         <th>coef</th>     <th>std err</th>      <th>z</th>      <th>P>|z|</th>  <th>[0.025</th>    <th>0.975]</th>  \n",
       "</tr>\n",
       "<tr>\n",
       "  <th>const</th>     <td>   -0.0231</td> <td>    0.003</td> <td>   -9.047</td> <td> 0.000</td> <td>   -0.028</td> <td>   -0.018</td>\n",
       "</tr>\n",
       "<tr>\n",
       "  <th>ar.L1.D.y</th> <td>    0.7428</td> <td>    0.116</td> <td>    6.382</td> <td> 0.000</td> <td>    0.515</td> <td>    0.971</td>\n",
       "</tr>\n",
       "<tr>\n",
       "  <th>ar.L2.D.y</th> <td>    0.2037</td> <td>    0.115</td> <td>    1.770</td> <td> 0.077</td> <td>   -0.022</td> <td>    0.429</td>\n",
       "</tr>\n",
       "<tr>\n",
       "  <th>ma.L1.D.y</th> <td>   -0.4257</td> <td>    0.099</td> <td>   -4.305</td> <td> 0.000</td> <td>   -0.620</td> <td>   -0.232</td>\n",
       "</tr>\n",
       "<tr>\n",
       "  <th>ma.L2.D.y</th> <td>   -0.5743</td> <td>    0.099</td> <td>   -5.828</td> <td> 0.000</td> <td>   -0.767</td> <td>   -0.381</td>\n",
       "</tr>\n",
       "</table>\n",
       "<table class=\"simpletable\">\n",
       "<caption>Roots</caption>\n",
       "<tr>\n",
       "    <td></td>   <th>            Real</th>  <th>         Imaginary</th> <th>         Modulus</th>  <th>        Frequency</th>\n",
       "</tr>\n",
       "<tr>\n",
       "  <th>AR.1</th> <td>           1.0461</td> <td>          +0.0000j</td> <td>           1.0461</td> <td>           0.0000</td>\n",
       "</tr>\n",
       "<tr>\n",
       "  <th>AR.2</th> <td>          -4.6924</td> <td>          +0.0000j</td> <td>           4.6924</td> <td>           0.5000</td>\n",
       "</tr>\n",
       "<tr>\n",
       "  <th>MA.1</th> <td>           1.0000</td> <td>          +0.0000j</td> <td>           1.0000</td> <td>           0.0000</td>\n",
       "</tr>\n",
       "<tr>\n",
       "  <th>MA.2</th> <td>          -1.7413</td> <td>          +0.0000j</td> <td>           1.7413</td> <td>           0.5000</td>\n",
       "</tr>\n",
       "</table>"
      ],
      "text/plain": [
       "<class 'statsmodels.iolib.summary.Summary'>\n",
       "\"\"\"\n",
       "                             ARIMA Model Results                              \n",
       "==============================================================================\n",
       "Dep. Variable:                    D.y   No. Observations:                  444\n",
       "Model:                 ARIMA(2, 1, 2)   Log Likelihood                 -50.024\n",
       "Method:                       css-mle   S.D. of innovations              0.270\n",
       "Date:                Fri, 15 May 2020   AIC                            112.047\n",
       "Time:                        12:21:51   BIC                            136.622\n",
       "Sample:                             1   HQIC                           121.739\n",
       "                                                                              \n",
       "==============================================================================\n",
       "                 coef    std err          z      P>|z|      [0.025      0.975]\n",
       "------------------------------------------------------------------------------\n",
       "const         -0.0231      0.003     -9.047      0.000      -0.028      -0.018\n",
       "ar.L1.D.y      0.7428      0.116      6.382      0.000       0.515       0.971\n",
       "ar.L2.D.y      0.2037      0.115      1.770      0.077      -0.022       0.429\n",
       "ma.L1.D.y     -0.4257      0.099     -4.305      0.000      -0.620      -0.232\n",
       "ma.L2.D.y     -0.5743      0.099     -5.828      0.000      -0.767      -0.381\n",
       "                                    Roots                                    \n",
       "=============================================================================\n",
       "                  Real          Imaginary           Modulus         Frequency\n",
       "-----------------------------------------------------------------------------\n",
       "AR.1            1.0461           +0.0000j            1.0461            0.0000\n",
       "AR.2           -4.6924           +0.0000j            4.6924            0.5000\n",
       "MA.1            1.0000           +0.0000j            1.0000            0.0000\n",
       "MA.2           -1.7413           +0.0000j            1.7413            0.5000\n",
       "-----------------------------------------------------------------------------\n",
       "\"\"\""
      ]
     },
     "execution_count": 41,
     "metadata": {},
     "output_type": "execute_result"
    }
   ],
   "source": [
    "Arima_model_two.summary()"
   ]
  },
  {
   "cell_type": "code",
   "execution_count": 42,
   "metadata": {},
   "outputs": [
    {
     "data": {
      "image/png": "[encoded data removed]",
      "text/plain": [
       "<Figure size 1080x720 with 1 Axes>"
      ]
     },
     "metadata": {
      "needs_background": "light"
     },
     "output_type": "display_data"
    }
   ],
   "source": [
    "plt.figure(figsize=(15,10))\n",
    "plt.plot(treasury, label='Training')\n",
    "plt.plot(treasuryval, label='Validation')\n",
    "plt.plot(predictions_treasury, label='Predicted')\n",
    "plt.legend(loc = 'upper center')\n",
    "plt.title('10-Year Treasury Rate')\n",
    "plt.show()"
   ]
  },
  {
   "cell_type": "code",
   "execution_count": 43,
   "metadata": {},
   "outputs": [
    {
     "name": "stdout",
     "output_type": "stream",
     "text": [
      "RMSE: 0.756603\n"
     ]
    }
   ],
   "source": [
    "mse = mean_squared_error(treasuryval, predictions_treasury)\n",
    "rmse = math.sqrt(mse)\n",
    "print('RMSE: %f' % rmse)"
   ]
  },
  {
   "cell_type": "code",
   "execution_count": 44,
   "metadata": {},
   "outputs": [],
   "source": [
    "futuretreasury=pd.DataFrame(Arima_model_two.predict(n_periods=20))"
   ]
  },
  {
   "cell_type": "code",
   "execution_count": 45,
   "metadata": {},
   "outputs": [
    {
     "data": {
      "text/html": [
       "<div>\n",
       "<style scoped>\n",
       "    .dataframe tbody tr th:only-of-type {\n",
       "        vertical-align: middle;\n",
       "    }\n",
       "\n",
       "    .dataframe tbody tr th {\n",
       "        vertical-align: top;\n",
       "    }\n",
       "\n",
       "    .dataframe thead th {\n",
       "        text-align: right;\n",
       "    }\n",
       "</style>\n",
       "<table border=\"1\" class=\"dataframe\">\n",
       "  <thead>\n",
       "    <tr style=\"text-align: right;\">\n",
       "      <th></th>\n",
       "      <th>0</th>\n",
       "    </tr>\n",
       "  </thead>\n",
       "  <tbody>\n",
       "    <tr>\n",
       "      <th>0</th>\n",
       "      <td>2.556287</td>\n",
       "    </tr>\n",
       "    <tr>\n",
       "      <th>1</th>\n",
       "      <td>2.451584</td>\n",
       "    </tr>\n",
       "    <tr>\n",
       "      <th>2</th>\n",
       "      <td>2.367743</td>\n",
       "    </tr>\n",
       "    <tr>\n",
       "      <th>3</th>\n",
       "      <td>2.282899</td>\n",
       "    </tr>\n",
       "    <tr>\n",
       "      <th>4</th>\n",
       "      <td>2.201561</td>\n",
       "    </tr>\n",
       "    <tr>\n",
       "      <th>5</th>\n",
       "      <td>2.122621</td>\n",
       "    </tr>\n",
       "    <tr>\n",
       "      <th>6</th>\n",
       "      <td>2.046179</td>\n",
       "    </tr>\n",
       "    <tr>\n",
       "      <th>7</th>\n",
       "      <td>1.972079</td>\n",
       "    </tr>\n",
       "    <tr>\n",
       "      <th>8</th>\n",
       "      <td>1.900228</td>\n",
       "    </tr>\n",
       "    <tr>\n",
       "      <th>9</th>\n",
       "      <td>1.830526</td>\n",
       "    </tr>\n",
       "    <tr>\n",
       "      <th>10</th>\n",
       "      <td>1.762877</td>\n",
       "    </tr>\n",
       "    <tr>\n",
       "      <th>11</th>\n",
       "      <td>1.697192</td>\n",
       "    </tr>\n",
       "    <tr>\n",
       "      <th>12</th>\n",
       "      <td>1.633383</td>\n",
       "    </tr>\n",
       "    <tr>\n",
       "      <th>13</th>\n",
       "      <td>1.571369</td>\n",
       "    </tr>\n",
       "    <tr>\n",
       "      <th>14</th>\n",
       "      <td>1.511069</td>\n",
       "    </tr>\n",
       "    <tr>\n",
       "      <th>15</th>\n",
       "      <td>1.452409</td>\n",
       "    </tr>\n",
       "    <tr>\n",
       "      <th>16</th>\n",
       "      <td>1.395315</td>\n",
       "    </tr>\n",
       "    <tr>\n",
       "      <th>17</th>\n",
       "      <td>1.339720</td>\n",
       "    </tr>\n",
       "    <tr>\n",
       "      <th>18</th>\n",
       "      <td>1.285558</td>\n",
       "    </tr>\n",
       "    <tr>\n",
       "      <th>19</th>\n",
       "      <td>1.232764</td>\n",
       "    </tr>\n",
       "  </tbody>\n",
       "</table>\n",
       "</div>"
      ],
      "text/plain": [
       "           0\n",
       "0   2.556287\n",
       "1   2.451584\n",
       "2   2.367743\n",
       "3   2.282899\n",
       "4   2.201561\n",
       "5   2.122621\n",
       "6   2.046179\n",
       "7   1.972079\n",
       "8   1.900228\n",
       "9   1.830526\n",
       "10  1.762877\n",
       "11  1.697192\n",
       "12  1.633383\n",
       "13  1.571369\n",
       "14  1.511069\n",
       "15  1.452409\n",
       "16  1.395315\n",
       "17  1.339720\n",
       "18  1.285558\n",
       "19  1.232764"
      ]
     },
     "execution_count": 45,
     "metadata": {},
     "output_type": "execute_result"
    }
   ],
   "source": [
    "futuretreasury=futuretreasury[0:20]\n",
    "futuretreasury"
   ]
  },
  {
   "cell_type": "code",
   "execution_count": 46,
   "metadata": {},
   "outputs": [
    {
     "data": {
      "text/plain": [
       "Text(0.5, 1.0, 'ARIMA Forecast')"
      ]
     },
     "execution_count": 46,
     "metadata": {},
     "output_type": "execute_result"
    },
    {
     "data": {
      "image/png": "[encoded data removed]",
      "text/plain": [
       "<Figure size 432x288 with 1 Axes>"
      ]
     },
     "metadata": {
      "needs_background": "light"
     },
     "output_type": "display_data"
    }
   ],
   "source": [
    "plt.plot(futuretreasury)\n",
    "plt.title(\"ARIMA Forecast\")"
   ]
  },
  {
   "cell_type": "markdown",
   "metadata": {},
   "source": [
    "# Recent Copper Prices"
   ]
  },
  {
   "cell_type": "code",
   "execution_count": 47,
   "metadata": {},
   "outputs": [],
   "source": [
    "copper_new = quandl.get(\"FRED/WPUSI019011\", start_date='2018-02-01', end_date='2020-05-01', api_key='enter_api_key')"
   ]
  },
  {
   "cell_type": "code",
   "execution_count": 48,
   "metadata": {},
   "outputs": [
    {
     "data": {
      "image/png": "[encoded data removed]",
      "text/plain": [
       "<Figure size 432x288 with 1 Axes>"
      ]
     },
     "metadata": {
      "needs_background": "light"
     },
     "output_type": "display_data"
    }
   ],
   "source": [
    "plt.plot(copper_new)\n",
    "plt.title(\"Producer Price Index by Commodity for Special Indexes: Copper and Copper Products\")\n",
    "plt.show()"
   ]
  },
  {
   "cell_type": "markdown",
   "metadata": {},
   "source": [
    "# Recent 10-Year US Treasury"
   ]
  },
  {
   "cell_type": "code",
   "execution_count": 49,
   "metadata": {},
   "outputs": [],
   "source": [
    "treasury_new = quandl.get(\"FRED/GS10\", start_date='2018-02-01', end_date='2020-05-01', api_key='enter_api_key')"
   ]
  },
  {
   "cell_type": "code",
   "execution_count": 50,
   "metadata": {},
   "outputs": [
    {
     "data": {
      "image/png": "[encoded data removed]",
      "text/plain": [
       "<Figure size 432x288 with 1 Axes>"
      ]
     },
     "metadata": {
      "needs_background": "light"
     },
     "output_type": "display_data"
    }
   ],
   "source": [
    "plt.plot(treasury_new)\n",
    "plt.title(\"10-Year US Treasury\")\n",
    "plt.show()"
   ]
  },
  {
   "cell_type": "markdown",
   "metadata": {},
   "source": [
    "# Long-Run Graphs"
   ]
  },
  {
   "cell_type": "code",
   "execution_count": 51,
   "metadata": {},
   "outputs": [
    {
     "data": {
      "image/png": "[encoded data removed]",
      "text/plain": [
       "<Figure size 432x288 with 1 Axes>"
      ]
     },
     "metadata": {
      "needs_background": "light"
     },
     "output_type": "display_data"
    }
   ],
   "source": [
    "plt.plot(copperlog)\n",
    "plt.title(\"Copper Producer Price Index (Logarithmic Format)\")\n",
    "plt.show()"
   ]
  },
  {
   "cell_type": "code",
   "execution_count": 52,
   "metadata": {},
   "outputs": [
    {
     "data": {
      "image/png": "[encoded data removed]",
      "text/plain": [
       "<Figure size 432x288 with 1 Axes>"
      ]
     },
     "metadata": {
      "needs_background": "light"
     },
     "output_type": "display_data"
    }
   ],
   "source": [
    "plt.plot(treasurynp)\n",
    "plt.title(\"10-Year Treasury Rate\")\n",
    "plt.show()"
   ]
  },
  {
   "cell_type": "code",
   "execution_count": 53,
   "metadata": {},
   "outputs": [
    {
     "data": {
      "image/png": "[encoded data removed]",
      "text/plain": [
       "<Figure size 432x288 with 1 Axes>"
      ]
     },
     "metadata": {
      "needs_background": "light"
     },
     "output_type": "display_data"
    }
   ],
   "source": [
    "plt.plot(usinf)\n",
    "plt.title(\"US Inflation\")\n",
    "plt.show()"
   ]
  }
 ],
 "metadata": {
  "kernelspec": {
   "display_name": "Python 3",
   "language": "python",
   "name": "python3"
  },
  "language_info": {
   "codemirror_mode": {
    "name": "ipython",
    "version": 3
   },
   "file_extension": ".py",
   "mimetype": "text/x-python",
   "name": "python",
   "nbconvert_exporter": "python",
   "pygments_lexer": "ipython3",
   "version": "3.6.9"
  }
 },
 "nbformat": 4,
 "nbformat_minor": 4
}
