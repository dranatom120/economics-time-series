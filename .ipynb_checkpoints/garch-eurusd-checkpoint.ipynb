{
 "cells": [
  {
   "cell_type": "markdown",
   "metadata": {},
   "source": [
    "## Import Data"
   ]
  },
  {
   "cell_type": "code",
   "execution_count": 1,
   "metadata": {},
   "outputs": [
    {
     "data": {
      "text/html": [
       "<div>\n",
       "<style scoped>\n",
       "    .dataframe tbody tr th:only-of-type {\n",
       "        vertical-align: middle;\n",
       "    }\n",
       "\n",
       "    .dataframe tbody tr th {\n",
       "        vertical-align: top;\n",
       "    }\n",
       "\n",
       "    .dataframe thead th {\n",
       "        text-align: right;\n",
       "    }\n",
       "</style>\n",
       "<table border=\"1\" class=\"dataframe\">\n",
       "  <thead>\n",
       "    <tr style=\"text-align: right;\">\n",
       "      <th></th>\n",
       "      <th>Value</th>\n",
       "    </tr>\n",
       "    <tr>\n",
       "      <th>Date</th>\n",
       "      <th></th>\n",
       "    </tr>\n",
       "  </thead>\n",
       "  <tbody>\n",
       "    <tr>\n",
       "      <th>2017-01-03</th>\n",
       "      <td>1.0416</td>\n",
       "    </tr>\n",
       "    <tr>\n",
       "      <th>2017-01-04</th>\n",
       "      <td>1.0476</td>\n",
       "    </tr>\n",
       "    <tr>\n",
       "      <th>2017-01-05</th>\n",
       "      <td>1.0598</td>\n",
       "    </tr>\n",
       "    <tr>\n",
       "      <th>2017-01-06</th>\n",
       "      <td>1.0560</td>\n",
       "    </tr>\n",
       "    <tr>\n",
       "      <th>2017-01-09</th>\n",
       "      <td>1.0576</td>\n",
       "    </tr>\n",
       "    <tr>\n",
       "      <th>...</th>\n",
       "      <td>...</td>\n",
       "    </tr>\n",
       "    <tr>\n",
       "      <th>2017-12-22</th>\n",
       "      <td>1.1839</td>\n",
       "    </tr>\n",
       "    <tr>\n",
       "      <th>2017-12-26</th>\n",
       "      <td>1.1867</td>\n",
       "    </tr>\n",
       "    <tr>\n",
       "      <th>2017-12-27</th>\n",
       "      <td>1.1902</td>\n",
       "    </tr>\n",
       "    <tr>\n",
       "      <th>2017-12-28</th>\n",
       "      <td>1.1952</td>\n",
       "    </tr>\n",
       "    <tr>\n",
       "      <th>2017-12-29</th>\n",
       "      <td>1.2022</td>\n",
       "    </tr>\n",
       "  </tbody>\n",
       "</table>\n",
       "<p>249 rows × 1 columns</p>\n",
       "</div>"
      ],
      "text/plain": [
       "             Value\n",
       "Date              \n",
       "2017-01-03  1.0416\n",
       "2017-01-04  1.0476\n",
       "2017-01-05  1.0598\n",
       "2017-01-06  1.0560\n",
       "2017-01-09  1.0576\n",
       "...            ...\n",
       "2017-12-22  1.1839\n",
       "2017-12-26  1.1867\n",
       "2017-12-27  1.1902\n",
       "2017-12-28  1.1952\n",
       "2017-12-29  1.2022\n",
       "\n",
       "[249 rows x 1 columns]"
      ]
     },
     "execution_count": 1,
     "metadata": {},
     "output_type": "execute_result"
    }
   ],
   "source": [
    "import numpy as np\n",
    "import pandas as pd\n",
    "import quandl\n",
    "from arch import arch_model\n",
    "from matplotlib import pyplot\n",
    "from random import gauss\n",
    "from random import seed\n",
    "from statsmodels.tsa.stattools import adfuller\n",
    "import statsmodels.tsa.stattools as ts\n",
    "\n",
    "# seed pseudorandom number generator\n",
    "seed(1)\n",
    "\n",
    "eurusd = quandl.get(\"FRED/DEXUSEU\", start_date='2017-01-01', end_date='2018-01-01', api_key='enter_api_key')\n",
    "eurusd"
   ]
  },
  {
   "cell_type": "markdown",
   "metadata": {},
   "source": [
    "## Data Converted to log format to smooth out extreme values and reduce volatility"
   ]
  },
  {
   "cell_type": "code",
   "execution_count": 2,
   "metadata": {},
   "outputs": [
    {
     "data": {
      "image/png": "[encoded data removed]",
      "text/plain": [
       "<Figure size 432x288 with 1 Axes>"
      ]
     },
     "metadata": {
      "needs_background": "light"
     },
     "output_type": "display_data"
    }
   ],
   "source": [
    "data=eurusd['Value']\n",
    "data=np.log(data)\n",
    "pyplot.plot(data)\n",
    "pyplot.title(\"EUR/USD\")\n",
    "pyplot.show()"
   ]
  },
  {
   "cell_type": "markdown",
   "metadata": {},
   "source": [
    "## Data is first differenced to approximate a Gaussian distribution"
   ]
  },
  {
   "cell_type": "code",
   "execution_count": 3,
   "metadata": {},
   "outputs": [],
   "source": [
    "data=np.diff(data,1)"
   ]
  },
  {
   "cell_type": "code",
   "execution_count": 4,
   "metadata": {},
   "outputs": [
    {
     "data": {
      "text/plain": [
       "(-16.26123019770431,\n",
       " 3.564065405943774e-29,\n",
       " 0,\n",
       " 247,\n",
       " {'1%': -3.457105309726321,\n",
       "  '5%': -2.873313676101283,\n",
       "  '10%': -2.5730443824681606},\n",
       " -1959.704886024891)"
      ]
     },
     "execution_count": 4,
     "metadata": {},
     "output_type": "execute_result"
    }
   ],
   "source": [
    "result = ts.adfuller(data, 1)\n",
    "result"
   ]
  },
  {
   "cell_type": "code",
   "execution_count": 5,
   "metadata": {},
   "outputs": [
    {
     "data": {
      "image/png": "[encoded data removed]",
      "text/plain": [
       "<Figure size 432x288 with 1 Axes>"
      ]
     },
     "metadata": {
      "needs_background": "light"
     },
     "output_type": "display_data"
    }
   ],
   "source": [
    "# plot\n",
    "pyplot.hist(data)\n",
    "pyplot.show()"
   ]
  },
  {
   "cell_type": "markdown",
   "metadata": {},
   "source": [
    "## QQ Plot: Visual Screening for Normality"
   ]
  },
  {
   "cell_type": "code",
   "execution_count": 6,
   "metadata": {},
   "outputs": [
    {
     "data": {
      "image/png": "[encoded data removed]",
      "text/plain": [
       "<Figure size 432x288 with 1 Axes>"
      ]
     },
     "metadata": {
      "needs_background": "light"
     },
     "output_type": "display_data"
    }
   ],
   "source": [
    "from numpy.random import seed\n",
    "from numpy.random import randn\n",
    "from statsmodels.graphics.gofplots import qqplot\n",
    "from matplotlib import pyplot\n",
    "# seed the random number generator\n",
    "seed(1)\n",
    "# generate univariate observations\n",
    "# q-q plot\n",
    "qqplot(data, line='s')\n",
    "pyplot.show()"
   ]
  },
  {
   "cell_type": "markdown",
   "metadata": {},
   "source": [
    "## GARCH Modelling"
   ]
  },
  {
   "cell_type": "code",
   "execution_count": 7,
   "metadata": {},
   "outputs": [],
   "source": [
    "# split into train/test\n",
    "n_test = 30\n",
    "train, test = data[:-n_test], data[-n_test:]\n",
    "# define model\n",
    "model = arch_model(train, mean='Zero', vol='GARCH', p=1, q=1)"
   ]
  },
  {
   "cell_type": "code",
   "execution_count": 8,
   "metadata": {},
   "outputs": [
    {
     "data": {
      "text/html": [
       "<strong>Zero Mean</strong>(<strong>constant: </strong>no,\n",
       "<strong>no. of exog: </strong>0,\n",
       "<strong>volatility: </strong>GARCH(p: 1, q: 1),\n",
       "<strong>distribution: </strong>Normal distribution,\n",
       "<strong>ID: </strong> 0x7f620ef9ae10)"
      ],
      "text/plain": [
       "Zero Mean(constant: no, no. of exog: 0, volatility: GARCH(p: 1, q: 1), distribution: Normal distribution), id: 0x7f620ef9ae10"
      ]
     },
     "execution_count": 8,
     "metadata": {},
     "output_type": "execute_result"
    }
   ],
   "source": [
    "model"
   ]
  },
  {
   "cell_type": "code",
   "execution_count": 9,
   "metadata": {},
   "outputs": [
    {
     "data": {
      "text/plain": [
       "array([ 5.74384118e-03,  1.15783774e-02, -3.59202579e-03,  1.51400483e-03,\n",
       "       -3.78286367e-04, -6.73850602e-03,  1.55906215e-02, -3.85139737e-03,\n",
       "        6.56662772e-03, -1.21626062e-03, -4.87988956e-03,  1.02948967e-02,\n",
       "        8.37637910e-04, -5.58347307e-04, -6.81831437e-03,  1.87265972e-03,\n",
       "       -8.42262929e-04,  1.05239621e-02, -3.34076035e-03,  4.08163832e-03,\n",
       "       -9.26183265e-04, -5.66836996e-03, -3.82802391e-03,  1.68240062e-03,\n",
       "       -4.68034178e-03, -7.50891719e-04, -4.42291221e-03, -2.45514760e-03,\n",
       "        1.88910985e-03,  5.92747654e-03, -4.32453433e-03, -5.95324225e-03,\n",
       "        3.79039140e-04,  2.93269214e-03, -5.66947006e-04,  4.15016630e-03,\n",
       "       -5.64918573e-04, -5.09867973e-03, -4.74429204e-03,  3.60771302e-03,\n",
       "        3.21695802e-03, -3.77928954e-04, -3.31298519e-03,  3.69091414e-03,\n",
       "        7.62249021e-03,  2.81201670e-04, -2.34576697e-03, -1.41010599e-03,\n",
       "        1.01086596e-02,  3.72439483e-04,  1.11648690e-03,  5.19385326e-03,\n",
       "       -9.25497521e-04, -1.20442874e-03,  1.75983003e-03,  7.00851264e-03,\n",
       "       -2.76065327e-03, -8.88565639e-03, -2.79303785e-03, -2.61389245e-03,\n",
       "       -4.02754256e-03,  8.44317326e-04, -2.81359908e-04, -9.38438507e-04,\n",
       "       -3.29148743e-03, -9.42418315e-04,  7.54005691e-04, -2.82685514e-04,\n",
       "        1.78899346e-03, -4.70477543e-04,  3.28870393e-03,  4.30591323e-03,\n",
       "        9.34012049e-05,  4.75193067e-03, -5.96682732e-03,  1.41135119e-02,\n",
       "        8.72085208e-03, -6.32652365e-03, -7.36106033e-04,  2.84939758e-03,\n",
       "        1.55913270e-03, -1.83301256e-04,  9.16170472e-04,  4.29479346e-03,\n",
       "        2.64080652e-03, -6.20326747e-03, -4.86172585e-03, -1.83924959e-04,\n",
       "       -3.67951435e-04,  5.23056939e-03,  4.83908728e-03,  8.43504162e-03,\n",
       "        5.58409089e-03, -3.59324474e-04,  5.37635704e-03,  4.10238692e-03,\n",
       "       -3.38771832e-03, -2.05605043e-03,  3.84049059e-03, -4.28801801e-03,\n",
       "        1.16315496e-03,  4.72814120e-03, -1.95991154e-03,  4.98133035e-03,\n",
       "       -1.77619940e-03,  1.42121182e-03, -2.66643123e-03, -1.69242458e-03,\n",
       "       -2.40996234e-03,  1.25033507e-03, -8.92936929e-04,  7.38733278e-03,\n",
       "       -1.11463992e-02,  3.75906645e-03, -3.04196352e-03, -3.23102058e-03,\n",
       "        1.70656169e-03,  4.48611555e-04,  4.29646203e-03,  0.00000000e+00,\n",
       "        9.24615407e-03,  5.64773827e-03,  4.91574024e-03, -7.88401775e-04,\n",
       "       -3.86338175e-03, -2.73091832e-03,  6.41901523e-03, -1.14010098e-03,\n",
       "        0.00000000e+00,  2.97906117e-03, -1.66367535e-03, -2.28110294e-03,\n",
       "        5.86768772e-03,  1.57054391e-03,  9.37181452e-03, -5.19571657e-03,\n",
       "        1.00208164e-02,  1.80342700e-03, -1.11602364e-03,  1.20182004e-03,\n",
       "       -2.06114810e-03,  2.06114810e-03,  8.37253930e-03,  6.10688921e-03,\n",
       "       -2.28571528e-03,  5.24092493e-03,  1.60060689e-03, -1.06627057e-02,\n",
       "        2.88845668e-03, -5.44404203e-03,  2.04499049e-03,  2.55330015e-04,\n",
       "        5.09295728e-03, -2.11891421e-03, -4.25134558e-03, -2.81582165e-03,\n",
       "        2.81582165e-03,  1.02197250e-03,  5.60225555e-03, -4.41127285e-03,\n",
       "        3.39501260e-03, -8.47349914e-05,  6.16686220e-03,  8.30297889e-03,\n",
       "        4.33370126e-03, -8.18307840e-03, -2.77066631e-03, -1.34612169e-03,\n",
       "        2.77439331e-03,  2.68298979e-03,  7.09193244e-03,  1.08022778e-03,\n",
       "       -6.41535214e-03,  3.34280464e-04, -5.86610247e-03, -1.00908182e-03,\n",
       "        6.12289604e-03, -1.75754324e-03,  3.51200294e-03,  1.50137654e-03,\n",
       "       -4.34347492e-03,  1.92347958e-03, -9.82334418e-03, -6.77279934e-03,\n",
       "       -2.12594153e-03,  2.46567314e-03,  3.13705798e-03, -5.77300186e-03,\n",
       "        1.19128673e-03,  8.50376292e-05, -4.60241160e-03,  2.21862025e-03,\n",
       "        6.11830597e-03,  3.63621389e-03, -5.91041517e-04, -2.53410484e-04,\n",
       "       -2.28358876e-03, -4.75302202e-03,  1.78503171e-03,  5.67389421e-03,\n",
       "       -6.09861284e-03, -6.79925234e-04,  3.40020405e-04,  3.05499219e-03,\n",
       "       -8.68016683e-03, -1.03093697e-02,  3.96449713e-03,  1.89052218e-03,\n",
       "       -2.57887188e-03,  4.63719165e-03, -4.80935314e-03, -1.37835997e-03,\n",
       "       -1.98472689e-03,  1.20856368e-03,  4.90555655e-03,  6.86577439e-04,\n",
       "        9.22295180e-03,  2.54690689e-03])"
      ]
     },
     "execution_count": 9,
     "metadata": {},
     "output_type": "execute_result"
    }
   ],
   "source": [
    "train"
   ]
  },
  {
   "cell_type": "code",
   "execution_count": 10,
   "metadata": {},
   "outputs": [
    {
     "data": {
      "text/plain": [
       "array([-0.0018671 ,  0.00229095, -0.00492779,  0.        ,  0.0040799 ,\n",
       "        0.01239215, -0.0020967 , -0.00277439, -0.0016852 ,  0.00336757,\n",
       "        0.00100806, -0.00521931, -0.00236606, -0.00271095,  0.00016965,\n",
       "       -0.00246274,  0.00348004, -0.00654569,  0.00315068,  0.00135939,\n",
       "        0.        ,  0.00220507,  0.00152375,  0.00497828, -0.0007578 ,\n",
       "       -0.00278352,  0.00236227,  0.00294501,  0.00419218,  0.00583968])"
      ]
     },
     "execution_count": 10,
     "metadata": {},
     "output_type": "execute_result"
    }
   ],
   "source": [
    "test"
   ]
  },
  {
   "cell_type": "code",
   "execution_count": 11,
   "metadata": {},
   "outputs": [
    {
     "name": "stdout",
     "output_type": "stream",
     "text": [
      "Iteration:      1,   Func. Count:      5,   Neg. LLF: -863.205772341235\n",
      "Positive directional derivative for linesearch    (Exit mode 8)\n",
      "            Current function value: -863.2057731358727\n",
      "            Iterations: 5\n",
      "            Function evaluations: 5\n",
      "            Gradient evaluations: 1\n"
     ]
    },
    {
     "name": "stderr",
     "output_type": "stream",
     "text": [
      "/home/michael/.local/lib/python3.6/site-packages/arch/univariate/base.py:293: DataScaleWarning: y is poorly scaled, which may affect convergence of the optimizer when\n",
      "estimating the model parameters. The scale of y is 2.129e-05. Parameter\n",
      "estimation work better when this value is between 1 and 1000. The recommended\n",
      "rescaling is 100 * y.\n",
      "\n",
      "This warning can be disabled by either rescaling y before initializing the\n",
      "model or by setting rescale=False.\n",
      "\n",
      "  data_scale_warning.format(orig_scale, rescale), DataScaleWarning\n",
      "/home/michael/.local/lib/python3.6/site-packages/arch/univariate/base.py:709: ConvergenceWarning: The optimizer returned code 8. The message is:\n",
      "Positive directional derivative for linesearch\n",
      "See scipy.optimize.fmin_slsqp for code meaning.\n",
      "\n",
      "  ConvergenceWarning,\n"
     ]
    }
   ],
   "source": [
    "# fit model\n",
    "model_fit = model.fit()\n",
    "# forecast the test set\n",
    "yhat = model_fit.forecast(horizon=n_test)"
   ]
  },
  {
   "cell_type": "code",
   "execution_count": 12,
   "metadata": {},
   "outputs": [
    {
     "data": {
      "text/plain": [
       "<arch.univariate.base.ARCHModelForecast at 0x7f620f00cfd0>"
      ]
     },
     "execution_count": 12,
     "metadata": {},
     "output_type": "execute_result"
    }
   ],
   "source": [
    "yhat"
   ]
  },
  {
   "cell_type": "code",
   "execution_count": 13,
   "metadata": {},
   "outputs": [],
   "source": [
    "test=pd.DataFrame(test)"
   ]
  },
  {
   "cell_type": "markdown",
   "metadata": {},
   "source": [
    "## Comparison of Predicted Variance and actual 5-day Rolling Variance"
   ]
  },
  {
   "cell_type": "code",
   "execution_count": 14,
   "metadata": {},
   "outputs": [
    {
     "data": {
      "text/plain": [
       "Text(0.5, 1.0, '5-day Rolling Variance')"
      ]
     },
     "execution_count": 14,
     "metadata": {},
     "output_type": "execute_result"
    },
    {
     "data": {
      "image/png": "[encoded data removed]",
      "text/plain": [
       "<Figure size 432x288 with 1 Axes>"
      ]
     },
     "metadata": {
      "needs_background": "light"
     },
     "output_type": "display_data"
    }
   ],
   "source": [
    "# Rolling Window\n",
    "test.rolling(window=5).var().plot(style='g')\n",
    "pyplot.title(\"5-day Rolling Variance\")"
   ]
  },
  {
   "cell_type": "code",
   "execution_count": 15,
   "metadata": {},
   "outputs": [
    {
     "data": {
      "image/png": "[encoded data removed]",
      "text/plain": [
       "<Figure size 432x288 with 1 Axes>"
      ]
     },
     "metadata": {
      "needs_background": "light"
     },
     "output_type": "display_data"
    }
   ],
   "source": [
    "# plot forecast variance\n",
    "pyplot.plot(yhat.variance.values[-1, :])\n",
    "pyplot.title(\"Predicted Variance\")\n",
    "pyplot.show()"
   ]
  },
  {
   "cell_type": "markdown",
   "metadata": {},
   "source": [
    "## References\n",
    "\n",
    "### [- Machine Learning Mastery: How to Model Volatility with ARCH and GARCH for Time Series Forecasting in Python](https://machinelearningmastery.com/develop-arch-and-garch-models-for-time-series-forecasting-in-python/)"
   ]
  }
 ],
 "metadata": {
  "kernelspec": {
   "display_name": "Python 3",
   "language": "python",
   "name": "python3"
  },
  "language_info": {
   "codemirror_mode": {
    "name": "ipython",
    "version": 3
   },
   "file_extension": ".py",
   "mimetype": "text/x-python",
   "name": "python",
   "nbconvert_exporter": "python",
   "pygments_lexer": "ipython3",
   "version": "3.6.9"
  }
 },
 "nbformat": 4,
 "nbformat_minor": 4
}
